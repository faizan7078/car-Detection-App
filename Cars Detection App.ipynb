{
 "cells": [
  {
   "cell_type": "code",
   "execution_count": 1,
   "metadata": {},
   "outputs": [],
   "source": [
    "\n",
    "import cv2\n",
    "#import time\n",
    " \n",
    "# Load the Cascade Classifier\n",
    "car_cascade = cv2.CascadeClassifier(\"haarcascade_car.xml\")\n",
    " \n",
    "#startt  web cam\n",
    "cap = cv2.VideoCapture('videos/Traffic - 20581.mp4')\n",
    " \n",
    "while True:\n",
    "     \n",
    "    #time.sleep(0.2)\n",
    "     \n",
    "    #read image from webcam\n",
    "    respose, color_img = cap.read()\n",
    "     \n",
    "    if respose == False:\n",
    "        break\n",
    "     \n",
    "    # Convert to grayscale\n",
    "    gray_img = cv2.cvtColor(color_img, cv2.COLOR_BGR2GRAY)\n",
    "     \n",
    "    # Detect the faces\n",
    "    faces = car_cascade.detectMultiScale(gray_img, 1.1, 1)\n",
    "     \n",
    "    #display rectrangle\n",
    "    i=0\n",
    "    for (x, y, w, h) in faces:\n",
    "        if i%2==0:\n",
    "            cv2.rectangle(color_img, (x, y), (x+w, y+h), (0, 0, 255), 2)\n",
    "            i +=1\n",
    "        else:\n",
    "            cv2.rectangle(color_img, (x, y), (x+w, y+h), (0, 255, 0), 2)\n",
    "            i +=1      \n",
    "     \n",
    "        # display image\n",
    "        cv2.imshow('img', color_img)\n",
    "             \n",
    "    if cv2.waitKey(1) & 0xFF == ord('q'):\n",
    "        break\n",
    " \n",
    "# Release the VideoCapture object\n",
    "cap.release()\n",
    "cv2.destroyAllWindows()"
   ]
  },
  {
   "cell_type": "code",
   "execution_count": null,
   "metadata": {},
   "outputs": [],
   "source": []
  }
 ],
 "metadata": {
  "kernelspec": {
   "display_name": "Python 3",
   "language": "python",
   "name": "python3"
  },
  "language_info": {
   "codemirror_mode": {
    "name": "ipython",
    "version": 3
   },
   "file_extension": ".py",
   "mimetype": "text/x-python",
   "name": "python",
   "nbconvert_exporter": "python",
   "pygments_lexer": "ipython3",
   "version": "3.8.3"
  }
 },
 "nbformat": 4,
 "nbformat_minor": 4
}
